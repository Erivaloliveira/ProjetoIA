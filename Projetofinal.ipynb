{
  "nbformat": 4,
  "nbformat_minor": 0,
  "metadata": {
    "colab": {
      "provenance": [],
      "authorship_tag": "ABX9TyOyzDWRT/o1UtpFXZ23ttvJ",
      "include_colab_link": true
    },
    "kernelspec": {
      "name": "python3",
      "display_name": "Python 3"
    },
    "language_info": {
      "name": "python"
    }
  },
  "cells": [
    {
      "cell_type": "markdown",
      "metadata": {
        "id": "view-in-github",
        "colab_type": "text"
      },
      "source": [
        "<a href=\"https://colab.research.google.com/github/Erivaloliveira/ProjetoIA/blob/main/Projetofinal.ipynb\" target=\"_parent\"><img src=\"https://colab.research.google.com/assets/colab-badge.svg\" alt=\"Open In Colab\"/></a>"
      ]
    },
    {
      "cell_type": "code",
      "source": [
        "#Instalando o SDK do Google\n",
        "!pip install -q -U google-generativeai"
      ],
      "metadata": {
        "id": "y2VvGsBObLKV"
      },
      "execution_count": 3,
      "outputs": []
    },
    {
      "cell_type": "code",
      "source": [
        "#Configurações iniciais\n",
        "import google.generativeai as genai\n",
        "from google.colab import userdata\n",
        "api_key = userdata.get('SECRET_KEY')\n",
        "genai.configure(api_key=api_key)"
      ],
      "metadata": {
        "id": "yAyN5KUvbV8s"
      },
      "execution_count": 5,
      "outputs": []
    },
    {
      "cell_type": "code",
      "source": [
        "#Listando os modelos disponíveis\n",
        "for m in genai.list_models():\n",
        "  if 'generateContent' in m.supported_generation_methods:\n",
        "    print(m.name)"
      ],
      "metadata": {
        "colab": {
          "base_uri": "https://localhost:8080/",
          "height": 139
        },
        "id": "-NY5AdxmcBwB",
        "outputId": "b4ec0daf-d7ed-4ed6-b0e7-87a5cbccf6d8"
      },
      "execution_count": 6,
      "outputs": [
        {
          "output_type": "stream",
          "name": "stdout",
          "text": [
            "models/gemini-1.0-pro\n",
            "models/gemini-1.0-pro-001\n",
            "models/gemini-1.0-pro-latest\n",
            "models/gemini-1.0-pro-vision-latest\n",
            "models/gemini-1.5-pro-latest\n",
            "models/gemini-pro\n",
            "models/gemini-pro-vision\n"
          ]
        }
      ]
    },
    {
      "cell_type": "code",
      "source": [
        "!pip install matplotlib-venn\n",
        "!apt-get -qq install -y libfluidsynth1\n",
        "# https://pypi.python.org/pypi/libarchive\n",
        "!apt-get -qq install -y libarchive-dev && pip install -U libarchive\n",
        "import libarchive"
      ],
      "metadata": {
        "id": "dgHswv8Kcuz6"
      },
      "execution_count": null,
      "outputs": []
    },
    {
      "cell_type": "code",
      "source": [
        "import pyttsx3\n",
        "\n",
        "# Inicializa o mecanismo de conversão de texto em fala\n",
        "engine = pyttsx3.init()"
      ],
      "metadata": {
        "id": "HLAqqk87dWRF"
      },
      "execution_count": null,
      "outputs": []
    },
    {
      "cell_type": "code",
      "source": [
        "# Define as configurações de voz\n",
        "engine.setProperty('voice', engine.getProperty('voices')[0].id)  # Define a primeira voz disponível como padrão\n",
        "engine.setProperty('rate', 150)  # Ajusta a taxa de fala (100 é o padrão)\n",
        "engine.setProperty('volume', 0.9)  # Ajusta o volume (0.0 é o mínimo, 1.0 é o máximo)"
      ],
      "metadata": {
        "id": "upQYA2Cddqig"
      },
      "execution_count": null,
      "outputs": []
    },
    {
      "cell_type": "code",
      "source": [
        "# Converte o texto em fala\n",
        "texto = \"Olá, mundo!\"  # Insira o texto que você deseja converter em áudio\n",
        "engine.say(texto)"
      ],
      "metadata": {
        "id": "7GUCOazYdtjV"
      },
      "execution_count": null,
      "outputs": []
    },
    {
      "cell_type": "code",
      "source": [
        "# Executa a fala\n",
        "engine.runAndWait()\n",
        "\n",
        "print(\"Texto convertido em fala com sucesso!\")"
      ],
      "metadata": {
        "id": "Y99olFWidxu7"
      },
      "execution_count": null,
      "outputs": []
    }
  ]
}